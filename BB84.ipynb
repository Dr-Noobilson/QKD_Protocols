{
 "cells": [
  {
   "cell_type": "code",
   "execution_count": 1,
   "metadata": {},
   "outputs": [],
   "source": [
    "# Importing necessary dependencies\n",
    "import numpy as np\n",
    "import math\n",
    "import random\n",
    "import copy"
   ]
  },
  {
   "cell_type": "code",
   "execution_count": 2,
   "metadata": {},
   "outputs": [],
   "source": [
    "# Defining variables\n",
    "n = 1000000   # n defines the number of photons generated\n",
    "p = 1       # Percentage of bits compared on the classical channel"
   ]
  },
  {
   "cell_type": "code",
   "execution_count": 9,
   "metadata": {},
   "outputs": [],
   "source": [
    "# Function to generate a binary sequence of size n\n",
    "def bin_seq(n):\n",
    "    arr = 2 * np.random.randint(0, 2, n) - 1  \n",
    "    return arr"
   ]
  },
  {
   "cell_type": "code",
   "execution_count": 4,
   "metadata": {},
   "outputs": [],
   "source": [
    "class User:\n",
    "    '''User class: Defines the attributes and methods of a user sending information on a channel'''\n",
    "    \n",
    "    def __init__(self, n):\n",
    "        '''Initialize a User object with specified attributes'''\n",
    "        self.n = n\n",
    "        self.basis = bin_seq(n)          # Basis: Defines the basis chosen by a user for producing polarized photons\n",
    "        self.key = None                  # Key: Stores the initial binary sequence to be sent on the quantum channel\n",
    "        \n",
    "    def generate_bits(self):\n",
    "        '''Generate random bits and store them in the key attribute'''\n",
    "        self.key = bin_seq(self.n)\n",
    "    \n",
    "    def polarization(self):\n",
    "        '''Generate polarized photons based on the key and basis'''\n",
    "        photons = copy.deepcopy(self.key)\n",
    "        for i in range(len(self.basis)):\n",
    "            config = self.basis[i]\n",
    "            if config == 1:\n",
    "                photons[i] += config  \n",
    "            else:\n",
    "                photons[i] *= config \n",
    "        return photons\n",
    "    \n",
    "    def receive_bits(self, photons):\n",
    "        '''Receive polarized photons and adjust based on the receiving end basis (reverse operations)'''\n",
    "        for i in range(len(self.basis)):\n",
    "            config = self.basis[i]\n",
    "            if config == 1:\n",
    "                photons[i] -= config\n",
    "            else:\n",
    "                photons[i] /= config\n",
    "                \n",
    "            if photons[i] % 2 == 0:\n",
    "                photons[i] = (2 * np.random.randint(0, 2)) - 1  \n",
    "                \n",
    "        self.key = photons"
   ]
  },
  {
   "cell_type": "code",
   "execution_count": 5,
   "metadata": {},
   "outputs": [],
   "source": [
    "class ClassicalChannel:\n",
    "    '''Classical Channel class definition'''\n",
    "    \n",
    "    def __init__(self):\n",
    "        '''Initialize the ClassicalChannel object'''\n",
    "        return\n",
    "    \n",
    "    @staticmethod\n",
    "    def compare_basis(basis_a, basis_b):\n",
    "        '''Function to compare the basis of the two users'''\n",
    "        indices = np.where(basis_a == basis_b)[0]\n",
    "        return indices\n",
    "\n",
    "    @staticmethod\n",
    "    def compare_bits(photons_a, photons_b):\n",
    "        '''Function to compare a given percentage of photons corresponding to the same basis'''\n",
    "        if np.array_equal(photons_a, photons_b):\n",
    "            print(\"Key Generation Successful\")\n",
    "            print(f'Your key of size {len(photons_a)} is {(photons_a+1)//2}')\n",
    "        else:\n",
    "            print(\"Eavesdropper detected\")\n",
    "            indices = np.where(photons_a != photons_b)[0]\n",
    "            print(f'Interceptions detected at {len(indices)} places.')\n"
   ]
  },
  {
   "cell_type": "code",
   "execution_count": 6,
   "metadata": {},
   "outputs": [
    {
     "name": "stdout",
     "output_type": "stream",
     "text": [
      "Key Generation Successful\n",
      "Your key of size 500201 is [1 0 0 ... 0 1 0]\n"
     ]
    }
   ],
   "source": [
    "# Successful key exchange case: No eavesdropper present on the channel \n",
    "alice = User(n)\n",
    "bob = User(n)\n",
    "#print(\"Alice's basis:\", alice.basis,\"\\nBob's basis:\", bob.basis)\n",
    "\n",
    "alice.generate_bits()\n",
    "#print(\"Alice's bit sequence\", alice.key)\n",
    "photons = alice.polarization()\n",
    "#print(\"Alice's photons:\", photons)\n",
    "bob.receive_bits(copy.deepcopy(photons))\n",
    "#print(\"Bob's bit sequence:\", bob.key)\n",
    "\n",
    "channel = ClassicalChannel\n",
    "indices = channel.compare_basis(alice.basis, bob.basis)\n",
    "ordered_indices = sorted(random.sample(list(indices), int(len(indices) * p)))\n",
    "#print(ordered_indices)\n",
    "channel.compare_bits(alice.key[ordered_indices], bob.key[ordered_indices])\n"
   ]
  },
  {
   "cell_type": "code",
   "execution_count": 7,
   "metadata": {},
   "outputs": [
    {
     "name": "stdout",
     "output_type": "stream",
     "text": [
      "Eavesdropper detected\n",
      "Interceptions detected at 124743 places.\n"
     ]
    }
   ],
   "source": [
    "# Unsuccessful secure key exchange case: Eavesdropper present on the channel\n",
    "alice = User(n)\n",
    "bob = User(n)\n",
    "eve = User(n)\n",
    "#print(\"Alice's basis:\", alice.basis,\"\\nBob's basis:\", bob.basis)\n",
    "\n",
    "alice.generate_bits()\n",
    "#print(\"Alice's bit sequence\", alice.key)\n",
    "photons = alice.polarization()\n",
    "#print(\"Alice's photons:\", photons)\n",
    "eve.receive_bits(copy.deepcopy(photons))\n",
    "#print(\" Eve's bit sequence:\", eve.key)\n",
    "modified_photons = eve.polarization()\n",
    "#print(\"Eve's photons:\", modified_photons)\n",
    "bob.receive_bits(copy.deepcopy(modified_photons))\n",
    "#print(\"Bob's bit sequence:\", bob.key)\n",
    "\n",
    "channel = ClassicalChannel\n",
    "indices = channel.compare_basis(alice.basis, bob.basis)\n",
    "ordered_indices = sorted(random.sample(list(indices), int(len(indices) * p)))\n",
    "#print(ordered_indices)\n",
    "channel.compare_bits(alice.key[ordered_indices], bob.key[ordered_indices])"
   ]
  }
 ],
 "metadata": {
  "kernelspec": {
   "display_name": "Python 3",
   "language": "python",
   "name": "python3"
  },
  "language_info": {
   "codemirror_mode": {
    "name": "ipython",
    "version": 3
   },
   "file_extension": ".py",
   "mimetype": "text/x-python",
   "name": "python",
   "nbconvert_exporter": "python",
   "pygments_lexer": "ipython3",
   "version": "3.9.3"
  }
 },
 "nbformat": 4,
 "nbformat_minor": 2
}
